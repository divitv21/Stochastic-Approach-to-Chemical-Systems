{
 "cells": [
  {
   "cell_type": "code",
   "execution_count": 2,
   "id": "98a66972",
   "metadata": {},
   "outputs": [],
   "source": [
    "import random\n",
    "\n",
    "def bernoulli(p):\n",
    "    \"\"\"\n",
    "    Generate a Bernoulli random variable with success probability p.\n",
    "    \"\"\"\n",
    "    return int(random.random() < p)\n"
   ]
  },
  {
   "cell_type": "code",
   "execution_count": 1,
   "id": "fcd41522",
   "metadata": {},
   "outputs": [
    {
     "data": {
      "image/png": "[encoded data removed]",
      "text/plain": [
       "<Figure size 432x288 with 1 Axes>"
      ]
     },
     "metadata": {
      "needs_background": "light"
     },
     "output_type": "display_data"
    },
    {
     "name": "stdout",
     "output_type": "stream",
     "text": [
      "Mean of the samples: 2.9681\n",
      "Variance of the samples: 2.27108239\n"
     ]
    }
   ],
   "source": [
    "import random\n",
    "import math\n",
    "import numpy as np\n",
    "import matplotlib.pyplot as plt\n",
    "\n",
    "def binomial_poisson(n, p, num_samples):\n",
    "    \"\"\"\n",
    "    Generate num_samples draws from Binomial(n, p) using a Poisson proposal (λ).\n",
    "    \"\"\"\n",
    "    samples = []\n",
    "    lam = n * p  # Poisson parameter\n",
    "    \n",
    "    while len(samples) < num_samples:\n",
    "        # generate a Poisson random variable with mean lam\n",
    "        x = np.random.poisson(lam)\n",
    "        \n",
    "        # generate a uniform random variable between 0 and 1\n",
    "        u = random.uniform(0, 1)\n",
    "        \n",
    "        # accept the sample with probability binom(x, n, p) / (poisson(x, lam) / e^lam)\n",
    "        if u <= math.comb(n, x) * (p ** x) * ((1 - p) ** (n - x)) / (math.exp(-lam) * (lam ** x) / math.factorial(x)):\n",
    "            samples.append(x)\n",
    "    \n",
    "    return samples\n",
    "\n",
    "# Example usage\n",
    "n = 10\n",
    "p = 0.3\n",
    "num_samples = 10000\n",
    "samples = binomial_poisson(n, p, num_samples)\n",
    "\n",
    "# Plot the histogram of the samples\n",
    "plt.hist(samples, bins=range(n+2), align='left', density=True, rwidth=0.8)\n",
    "plt.xlabel(\"x\")\n",
    "plt.ylabel(\"frequency\")\n",
    "plt.title(\"Histogram of Binomial(n={}, p={}) samples generated by Accept-Reject method\".format(n, p))\n",
    "plt.show()\n",
    "\n",
    "# Print the mean and variance of the samples\n",
    "print(\"Mean of the samples:\", np.mean(samples))\n",
    "print(\"Variance of the samples:\", np.var(samples))\n"
   ]
  },
  {
   "cell_type": "code",
   "execution_count": null,
   "id": "8bc7d1ad",
   "metadata": {},
   "outputs": [],
   "source": []
  }
 ],
 "metadata": {
  "kernelspec": {
   "display_name": "Python 3 (ipykernel)",
   "language": "python",
   "name": "python3"
  },
  "language_info": {
   "codemirror_mode": {
    "name": "ipython",
    "version": 3
   },
   "file_extension": ".py",
   "mimetype": "text/x-python",
   "name": "python",
   "nbconvert_exporter": "python",
   "pygments_lexer": "ipython3",
   "version": "3.9.12"
  }
 },
 "nbformat": 4,
 "nbformat_minor": 5
}
